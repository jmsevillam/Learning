{
 "cells": [
  {
   "cell_type": "markdown",
   "metadata": {},
   "source": [
    "# Julia vs Python\n",
    "\n",
    "This notebook is the first of a series done while learning to code on [Julia](https://julialang.org/).\n",
    "\n",
    "Jose Mauricio Sevilla Moreno.\n",
    "2020\n",
    "\n",
    "`Email` jmasevillam@gmail.com\n",
    "\n",
    "---\n",
    "\n",
    "There is no a particular interest besides learning to do this. Firstly, I found interesting and inspiring doing a comparison between these two languages as I have been using Python for years and they are very close when writing the codes. This has be done before in many places but this particular notebook will follow strongly this [link](https://sunscrapers.com/blog/the-quickest-introduction-to-julia-for-pythonistas/). It is not more than just a blog with useful tips I will follow with my own comments and concerns on the road.\n",
    "\n",
    "This notebook is done with a `Bash` kernel as I am planning to have the codes on `.py` and `.jl` and run them here."
   ]
  },
  {
   "cell_type": "markdown",
   "metadata": {},
   "source": [
    "First it is worth considering the differences between `print` and `println` in Julia, as the seem to do the same but all the tutorials use `println`. Let us explore them, let us use the classic _Hello World_ to this task, so we have two codes `Hello1.jl` and `Hello2.jl` each one of them just a single line as follows,"
   ]
  },
  {
   "cell_type": "code",
   "execution_count": 1,
   "metadata": {
    "ExecuteTime": {
     "end_time": "2020-04-11T12:29:16.232387Z",
     "start_time": "2020-04-11T12:29:16.115203Z"
    }
   },
   "outputs": [
    {
     "name": "stdout",
     "output_type": "stream",
     "text": [
      "==> Hello1.jl <==\n",
      "println(\"Hello World\")\n",
      "\n",
      "==> Hello2.jl <==\n",
      "print(\"Hello World\")\n"
     ]
    }
   ],
   "source": [
    "head Hello*.jl"
   ]
  },
  {
   "cell_type": "markdown",
   "metadata": {
    "ExecuteTime": {
     "end_time": "2020-04-11T12:27:31.147554Z",
     "start_time": "2020-04-11T12:27:31.032189Z"
    }
   },
   "source": [
    "So, let us run the two codes"
   ]
  },
  {
   "cell_type": "code",
   "execution_count": 2,
   "metadata": {
    "ExecuteTime": {
     "end_time": "2020-04-11T12:29:18.971840Z",
     "start_time": "2020-04-11T12:29:16.240183Z"
    }
   },
   "outputs": [
    {
     "name": "stdout",
     "output_type": "stream",
     "text": [
      "Hello World\n"
     ]
    }
   ],
   "source": [
    "julia Hello1.jl"
   ]
  },
  {
   "cell_type": "code",
   "execution_count": 3,
   "metadata": {
    "ExecuteTime": {
     "end_time": "2020-04-11T12:29:19.634283Z",
     "start_time": "2020-04-11T12:29:18.979246Z"
    }
   },
   "outputs": [
    {
     "name": "stdout",
     "output_type": "stream",
     "text": [
      "Hello World"
     ]
    }
   ],
   "source": [
    "julia Hello2.jl"
   ]
  },
  {
   "cell_type": "markdown",
   "metadata": {},
   "source": [
    "On this environment it looks like the two commands work the same, but actually the differences can be seen when we print more than a single line, as `print` does not create a newline (As python's `print` does) and `println` does."
   ]
  },
  {
   "cell_type": "code",
   "execution_count": 4,
   "metadata": {
    "ExecuteTime": {
     "end_time": "2020-04-11T12:29:20.955337Z",
     "start_time": "2020-04-11T12:29:19.639567Z"
    }
   },
   "outputs": [
    {
     "name": "stdout",
     "output_type": "stream",
     "text": [
      "Hello World\n",
      "Hello World"
     ]
    }
   ],
   "source": [
    "julia Hello1.jl\n",
    "julia Hello2.jl"
   ]
  },
  {
   "cell_type": "code",
   "execution_count": 5,
   "metadata": {
    "ExecuteTime": {
     "end_time": "2020-04-11T12:29:22.332246Z",
     "start_time": "2020-04-11T12:29:20.959152Z"
    }
   },
   "outputs": [
    {
     "name": "stdout",
     "output_type": "stream",
     "text": [
      "Hello WorldHello World\n"
     ]
    }
   ],
   "source": [
    "julia Hello2.jl\n",
    "julia Hello1.jl"
   ]
  },
  {
   "cell_type": "markdown",
   "metadata": {},
   "source": [
    "Depending on the format we want to print, we are going to use either `print` or `println` on `Julia`."
   ]
  },
  {
   "cell_type": "markdown",
   "metadata": {},
   "source": [
    "Let us see some examples of simple codes on julia, for instance \n",
    "- `sum.jl`\n",
    "\n",
    "```julia\n",
    "function f(a,b)\n",
    "  return a+b\n",
    "end\n",
    "\n",
    "A=f(1.,2)\n",
    "b=f(1.,2.)\n",
    "C=f(1,2)\n",
    "\n",
    "println(A,\" \",b,\" \",C)\n",
    "\n",
    "```"
   ]
  },
  {
   "cell_type": "code",
   "execution_count": 25,
   "metadata": {
    "ExecuteTime": {
     "end_time": "2020-04-11T13:46:45.723195Z",
     "start_time": "2020-04-11T13:46:43.507174Z"
    }
   },
   "outputs": [
    {
     "name": "stdout",
     "output_type": "stream",
     "text": [
      "3.0 3.0  3\n"
     ]
    }
   ],
   "source": [
    "julia sum.jl"
   ]
  },
  {
   "cell_type": "markdown",
   "metadata": {},
   "source": [
    "The version of this code on python, is actually very similar\n",
    "\n",
    "```python\n",
    "def f(a,b):\n",
    "    return a+b\n",
    "\n",
    "A=f(1.,2)\n",
    "b=f(1.,2.)\n",
    "C=f(1,2)\n",
    "\n",
    "print(A,b,C)\n",
    "```"
   ]
  },
  {
   "cell_type": "markdown",
   "metadata": {},
   "source": [
    "The main difference that may be pointed out is the way the functions are defined with `function` and ``"
   ]
  },
  {
   "cell_type": "code",
   "execution_count": null,
   "metadata": {},
   "outputs": [],
   "source": []
  }
 ],
 "metadata": {
  "kernelspec": {
   "display_name": "Bash",
   "language": "bash",
   "name": "bash"
  },
  "language_info": {
   "codemirror_mode": "shell",
   "file_extension": ".sh",
   "mimetype": "text/x-sh",
   "name": "bash"
  }
 },
 "nbformat": 4,
 "nbformat_minor": 2
}
